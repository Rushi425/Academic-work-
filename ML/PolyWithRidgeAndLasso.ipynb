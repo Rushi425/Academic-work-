{
 "cells": [
  {
   "cell_type": "code",
   "execution_count": 18,
   "id": "15b97ccc-7c0b-4c84-90a5-914f98b00ff2",
   "metadata": {},
   "outputs": [],
   "source": [
    "from sklearn.datasets import fetch_california_housing\n",
    "from sklearn.model_selection import train_test_split\n",
    "from sklearn.preprocessing import PolynomialFeatures\n",
    "from sklearn.linear_model import Ridge, Lasso\n",
    "from sklearn.metrics import mean_squared_error\n",
    "import pandas as pd\n"
   ]
  },
  {
   "cell_type": "code",
   "execution_count": 19,
   "id": "a1719e9e-af2b-405e-b1d5-44eacc42b7eb",
   "metadata": {},
   "outputs": [],
   "source": [
    "# Load the California Housing dataset\n",
    "housing = fetch_california_housing()\n",
    "# print(housing)\n",
    "X = pd.DataFrame(housing.data, columns=housing.feature_names)\n",
    "y = pd.DataFrame(housing.target, columns=[\"MedHouseVal\"])\n",
    "# X\n",
    "# y\n",
    "\n",
    "# # Split the dataset\n",
    "X_train, X_test, y_train, y_test = train_test_split(X, y, test_size = 0.2, random_state = 0)"
   ]
  },
  {
   "cell_type": "code",
   "execution_count": 21,
   "id": "417d0bcd-879a-445e-91b4-f89698349ab3",
   "metadata": {},
   "outputs": [],
   "source": [
    "# Create polynomial features (degree 2)\n",
    "poly = PolynomialFeatures(degree=2)\n",
    "X_train_poly = poly.fit_transform(X_train)\n",
    "X_test_poly = poly.transform(X_test)"
   ]
  },
  {
   "cell_type": "code",
   "execution_count": 22,
   "id": "9183db3b-fd48-4435-b772-ecb6382b4cd1",
   "metadata": {},
   "outputs": [
    {
     "name": "stdout",
     "output_type": "stream",
     "text": [
      "Ridge Training MSE: 0.4242188212235821\n",
      "Ridge Testing MSE: 2.2904431978298625\n"
     ]
    },
    {
     "name": "stderr",
     "output_type": "stream",
     "text": [
      "C:\\Users\\rushi\\anaconda3\\Lib\\site-packages\\sklearn\\linear_model\\_ridge.py:216: LinAlgWarning: Ill-conditioned matrix (rcond=2.55523e-19): result may not be accurate.\n",
      "  return linalg.solve(A, Xy, assume_a=\"pos\", overwrite_a=True).T\n"
     ]
    }
   ],
   "source": [
    "# Ridge Regression\n",
    "ridge = Ridge(alpha=1.0)\n",
    "ridge.fit(X_train_poly, y_train)\n",
    "\n",
    "ridge_train_pred = ridge.predict(X_train_poly)\n",
    "ridge_test_pred = ridge.predict(X_test_poly)\n",
    "\n",
    "print(\"Ridge Training MSE:\", mean_squared_error(y_train, ridge_train_pred))\n",
    "print(\"Ridge Testing MSE:\", mean_squared_error(y_test, ridge_test_pred))\n"
   ]
  },
  {
   "cell_type": "code",
   "execution_count": 23,
   "id": "8bfd6099-f7f1-4f2f-b6c2-45ff8ba5c8e3",
   "metadata": {},
   "outputs": [
    {
     "name": "stdout",
     "output_type": "stream",
     "text": [
      "Lasso Training MSE: 0.4554606236668769\n",
      "Lasso Testing MSE: 13.916568227545136\n"
     ]
    },
    {
     "name": "stderr",
     "output_type": "stream",
     "text": [
      "C:\\Users\\rushi\\anaconda3\\Lib\\site-packages\\sklearn\\linear_model\\_coordinate_descent.py:697: ConvergenceWarning: Objective did not converge. You might want to increase the number of iterations, check the scale of the features or consider increasing regularisation. Duality gap: 3.785e+03, tolerance: 2.210e+00\n",
      "  model = cd_fast.enet_coordinate_descent(\n"
     ]
    }
   ],
   "source": [
    "# Lasso Regression\n",
    "lasso = Lasso(alpha=0.01)\n",
    "lasso.fit(X_train_poly, y_train)\n",
    "\n",
    "lasso_train_pred = lasso.predict(X_train_poly)\n",
    "lasso_test_pred = lasso.predict(X_test_poly)\n",
    "\n",
    "print(\"Lasso Training MSE:\", mean_squared_error(y_train, lasso_train_pred))\n",
    "print(\"Lasso Testing MSE:\", mean_squared_error(y_test, lasso_test_pred))"
   ]
  },
  {
   "cell_type": "code",
   "execution_count": null,
   "id": "9a267298-1596-462e-9123-0c80d287f8a3",
   "metadata": {},
   "outputs": [],
   "source": []
  }
 ],
 "metadata": {
  "kernelspec": {
   "display_name": "Python 3 (ipykernel)",
   "language": "python",
   "name": "python3"
  },
  "language_info": {
   "codemirror_mode": {
    "name": "ipython",
    "version": 3
   },
   "file_extension": ".py",
   "mimetype": "text/x-python",
   "name": "python",
   "nbconvert_exporter": "python",
   "pygments_lexer": "ipython3",
   "version": "3.12.4"
  }
 },
 "nbformat": 4,
 "nbformat_minor": 5
}

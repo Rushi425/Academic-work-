{
 "cells": [
  {
   "cell_type": "code",
   "execution_count": 57,
   "metadata": {},
   "outputs": [],
   "source": [
    "from datetime import datetime"
   ]
  },
  {
   "cell_type": "code",
   "execution_count": 58,
   "metadata": {},
   "outputs": [
    {
     "name": "stdout",
     "output_type": "stream",
     "text": [
      "2024-10-01 12:49:24.521152\n",
      "Year 2024\n",
      "Month 10\n",
      "Day 1\n",
      "12\n",
      "49\n",
      "24\n"
     ]
    }
   ],
   "source": [
    "current_date = datetime.now()\n",
    "print(current_date)\n",
    "print(\"Year\",current_date.year)\n",
    "print(\"Month\",current_date.month)\n",
    "print(\"Day\",current_date.day)\n",
    "print(current_date.hour)\n",
    "print(current_date.minute)\n",
    "print(current_date.second)"
   ]
  },
  {
   "cell_type": "markdown",
   "metadata": {},
   "source": [
    "-----------------"
   ]
  },
  {
   "cell_type": "code",
   "execution_count": 59,
   "metadata": {},
   "outputs": [],
   "source": [
    "from datetime import date"
   ]
  },
  {
   "cell_type": "code",
   "execution_count": 60,
   "metadata": {},
   "outputs": [
    {
     "name": "stdout",
     "output_type": "stream",
     "text": [
      "2024-10-01\n"
     ]
    }
   ],
   "source": [
    "date = date(2024, 10, 1)\n",
    "print(date)"
   ]
  },
  {
   "cell_type": "code",
   "execution_count": 61,
   "metadata": {},
   "outputs": [
    {
     "name": "stdout",
     "output_type": "stream",
     "text": [
      "2024\n",
      "10\n",
      "2024\n"
     ]
    }
   ],
   "source": [
    "#extract\n",
    "print(date.year)\n",
    "print(date.month)\n",
    "print(date.year)"
   ]
  },
  {
   "cell_type": "markdown",
   "metadata": {},
   "source": [
    "Getting the day of the week:"
   ]
  },
  {
   "cell_type": "code",
   "execution_count": 62,
   "metadata": {},
   "outputs": [
    {
     "name": "stdout",
     "output_type": "stream",
     "text": [
      "1\n"
     ]
    }
   ],
   "source": [
    "weekday = date.weekday()\n",
    "print(weekday) "
   ]
  },
  {
   "cell_type": "markdown",
   "metadata": {},
   "source": [
    "Formatting the date as a string:"
   ]
  },
  {
   "cell_type": "code",
   "execution_count": 63,
   "metadata": {},
   "outputs": [
    {
     "name": "stdout",
     "output_type": "stream",
     "text": [
      "24-10-01\n"
     ]
    }
   ],
   "source": [
    "string = date.strftime('%y-%m-%d')\n",
    "print(string)"
   ]
  },
  {
   "cell_type": "markdown",
   "metadata": {},
   "source": [
    "# string to datetime"
   ]
  },
  {
   "cell_type": "code",
   "execution_count": 75,
   "metadata": {},
   "outputs": [
    {
     "name": "stdout",
     "output_type": "stream",
     "text": [
      "2024-10-01 12:49:24\n",
      "Year 2024\n"
     ]
    }
   ],
   "source": [
    "string_date = \"2024-10-01 12:49:24\"\n",
    "# print(\"Year\",string_date.year)\n",
    "date_time = datetime.strptime(string_date, \"%Y-%m-%d %H:%M:%S\")\n",
    "print(date_time)\n",
    "print(\"Year\",date_time.year)\n"
   ]
  }
 ],
 "metadata": {
  "kernelspec": {
   "display_name": "Python 3",
   "language": "python",
   "name": "python3"
  },
  "language_info": {
   "codemirror_mode": {
    "name": "ipython",
    "version": 3
   },
   "file_extension": ".py",
   "mimetype": "text/x-python",
   "name": "python",
   "nbconvert_exporter": "python",
   "pygments_lexer": "ipython3",
   "version": "3.12.4"
  }
 },
 "nbformat": 4,
 "nbformat_minor": 2
}

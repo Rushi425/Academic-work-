{
 "cells": [
  {
   "cell_type": "code",
   "execution_count": 4,
   "metadata": {},
   "outputs": [
    {
     "name": "stdout",
     "output_type": "stream",
     "text": [
      "2024-10-15 00:07:52.517471\n",
      "2005-04-02 00:00:00\n",
      "Age: 19 years and 201 days\n"
     ]
    }
   ],
   "source": [
    "from datetime import datetime\n",
    "\n",
    "#current date\n",
    "current_date = datetime.today()\n",
    "print(current_date)\n",
    "\n",
    "# Input birthdate\n",
    "year = int(input(\"Enter birth year: \"))\n",
    "month = int(input(\"Enter birth month: \"))\n",
    "day = int(input(\"Enter birth day: \"))\n",
    "\n",
    "birth_date = f\"{year}-{month}-{day}\"\n",
    "birth_date1 = datetime.strptime(birth_date, \"%Y-%m-%d\")  # converting date string into datetime\n",
    "\n",
    "print(birth_date1)\n",
    "\n",
    "#difference between the current date and the birth date\n",
    "date_difference = current_date - birth_date1\n",
    "#approximate age in years\n",
    "age_years = date_difference.days // 365\n",
    "#remaining days after counting full years\n",
    "remaining_days = date_difference.days % 365\n",
    "\n",
    "print(f\"Age: {age_years} years and {remaining_days} days\")\n"
   ]
  }
 ],
 "metadata": {
  "kernelspec": {
   "display_name": "Python 3",
   "language": "python",
   "name": "python3"
  },
  "language_info": {
   "codemirror_mode": {
    "name": "ipython",
    "version": 3
   },
   "file_extension": ".py",
   "mimetype": "text/x-python",
   "name": "python",
   "nbconvert_exporter": "python",
   "pygments_lexer": "ipython3",
   "version": "3.12.4"
  }
 },
 "nbformat": 4,
 "nbformat_minor": 2
}

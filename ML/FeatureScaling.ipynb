{
 "cells": [
  {
   "cell_type": "markdown",
   "id": "6df09742-dd54-43eb-a69d-e813e9233875",
   "metadata": {},
   "source": [
    "Fature Scaling\n",
    "~ Normalization\n",
    "~Standarzitaion"
   ]
  },
  {
   "cell_type": "code",
   "execution_count": 2,
   "id": "62e837a2-55a7-4bec-b806-1734bbad64f4",
   "metadata": {},
   "outputs": [
    {
     "data": {
      "text/html": [
       "<div>\n",
       "<style scoped>\n",
       "    .dataframe tbody tr th:only-of-type {\n",
       "        vertical-align: middle;\n",
       "    }\n",
       "\n",
       "    .dataframe tbody tr th {\n",
       "        vertical-align: top;\n",
       "    }\n",
       "\n",
       "    .dataframe thead th {\n",
       "        text-align: right;\n",
       "    }\n",
       "</style>\n",
       "<table border=\"1\" class=\"dataframe\">\n",
       "  <thead>\n",
       "    <tr style=\"text-align: right;\">\n",
       "      <th></th>\n",
       "      <th>class</th>\n",
       "      <th>Alchohol</th>\n",
       "      <th>Malic</th>\n",
       "    </tr>\n",
       "  </thead>\n",
       "  <tbody>\n",
       "    <tr>\n",
       "      <th>0</th>\n",
       "      <td>1</td>\n",
       "      <td>14.23</td>\n",
       "      <td>1.71</td>\n",
       "    </tr>\n",
       "    <tr>\n",
       "      <th>1</th>\n",
       "      <td>1</td>\n",
       "      <td>13.20</td>\n",
       "      <td>1.78</td>\n",
       "    </tr>\n",
       "    <tr>\n",
       "      <th>2</th>\n",
       "      <td>1</td>\n",
       "      <td>13.16</td>\n",
       "      <td>2.36</td>\n",
       "    </tr>\n",
       "    <tr>\n",
       "      <th>3</th>\n",
       "      <td>1</td>\n",
       "      <td>14.37</td>\n",
       "      <td>1.95</td>\n",
       "    </tr>\n",
       "    <tr>\n",
       "      <th>4</th>\n",
       "      <td>1</td>\n",
       "      <td>13.24</td>\n",
       "      <td>2.59</td>\n",
       "    </tr>\n",
       "  </tbody>\n",
       "</table>\n",
       "</div>"
      ],
      "text/plain": [
       "   class  Alchohol  Malic\n",
       "0      1     14.23   1.71\n",
       "1      1     13.20   1.78\n",
       "2      1     13.16   2.36\n",
       "3      1     14.37   1.95\n",
       "4      1     13.24   2.59"
      ]
     },
     "execution_count": 2,
     "metadata": {},
     "output_type": "execute_result"
    }
   ],
   "source": [
    "import pandas as pd\n",
    "\n",
    "df = pd.read_csv('FeatureScaling.csv')\n",
    "df "
   ]
  },
  {
   "cell_type": "code",
   "execution_count": 3,
   "id": "f13b6f53-cb3f-41f7-b5b4-3bc04cbf1077",
   "metadata": {},
   "outputs": [
    {
     "name": "stdout",
     "output_type": "stream",
     "text": [
      "[[0.88429752 0.        ]\n",
      " [0.03305785 0.07954545]\n",
      " [0.         0.73863636]\n",
      " [1.         0.27272727]\n",
      " [0.0661157  1.        ]]\n",
      "   class  Alchohol  Malic\n",
      "0      1     14.23   1.71\n",
      "1      1     13.20   1.78\n",
      "2      1     13.16   2.36\n",
      "3      1     14.37   1.95\n",
      "4      1     13.24   2.59\n"
     ]
    }
   ],
   "source": [
    "#for doing MinMaxScaler\n",
    "from sklearn.preprocessing import MinMaxScaler\n",
    "scaling = MinMaxScaler() # for every values it is applied\n",
    "print(scaling.fit_transform( df[['Alchohol','Malic']])) # fit columns\n",
    "print(df)\n"
   ]
  },
  {
   "cell_type": "code",
   "execution_count": 15,
   "id": "fbdc509f-301b-4fde-8a98-fa1de277b7db",
   "metadata": {},
   "outputs": [
    {
     "name": "stdout",
     "output_type": "stream",
     "text": [
      "[[ 1.08997918 -1.07836773]\n",
      " [-0.81286583 -0.87324344]\n",
      " [-0.88676272  0.82635788]\n",
      " [ 1.3486183  -0.37508443]\n",
      " [-0.73896893  1.50033771]]\n"
     ]
    }
   ],
   "source": [
    "#for doing Standardization\n",
    "from sklearn.preprocessing import StandardScaler\n",
    "scaling = StandardScaler() # for every values it is applied\n",
    "print(scaling.fit_transform( df[['Alchohol','Malic']])) # fit columns"
   ]
  },
  {
   "cell_type": "code",
   "execution_count": null,
   "id": "32f7a650-76cb-41df-8451-784348d3e3f0",
   "metadata": {},
   "outputs": [],
   "source": []
  }
 ],
 "metadata": {
  "kernelspec": {
   "display_name": "Python 3 (ipykernel)",
   "language": "python",
   "name": "python3"
  },
  "language_info": {
   "codemirror_mode": {
    "name": "ipython",
    "version": 3
   },
   "file_extension": ".py",
   "mimetype": "text/x-python",
   "name": "python",
   "nbconvert_exporter": "python",
   "pygments_lexer": "ipython3",
   "version": "3.12.4"
  }
 },
 "nbformat": 4,
 "nbformat_minor": 5
}

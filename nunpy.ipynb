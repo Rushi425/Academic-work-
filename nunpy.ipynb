{
 "cells": [
  {
   "cell_type": "markdown",
   "metadata": {},
   "source": [
    "#Numpy\n"
   ]
  },
  {
   "cell_type": "code",
   "execution_count": 1,
   "metadata": {},
   "outputs": [
    {
     "name": "stdout",
     "output_type": "stream",
     "text": [
      "number:  [6 9 2 5]\n",
      "data type of array:  int64\n",
      "size:  4\n",
      "sorted array:  [2 5 6 9]\n"
     ]
    }
   ],
   "source": [
    "\n",
    "# (1) print array , data type , size of the array & print sorted array :\n",
    "import numpy as np\n",
    "\n",
    "arr=np.array([6,9,2,5])\n",
    "\n",
    "print(\"number: \",arr)\n",
    "print(\"data type of array: \",arr.dtype)\n",
    "print(\"size: \",np.size(arr))\n",
    "print(\"sorted array: \",np.sort(arr))"
   ]
  },
  {
   "cell_type": "code",
   "execution_count": 2,
   "metadata": {},
   "outputs": [
    {
     "name": "stdout",
     "output_type": "stream",
     "text": [
      "addition of 2 array: [11  7  3]\n",
      "multiplication of 2 array: [30 12  2]\n"
     ]
    }
   ],
   "source": [
    "# (2) addition & multiplication of numpy array :\n",
    "arr_1=np.array([5,3,1])\n",
    "arr_2=np.array([6,4,2])\n",
    "print(\"addition of 2 array:\",arr_1+arr_2)\n",
    "print(\"multiplication of 2 array:\",arr_1*arr_2)"
   ]
  },
  {
   "cell_type": "code",
   "execution_count": 2,
   "metadata": {},
   "outputs": [
    {
     "name": "stdout",
     "output_type": "stream",
     "text": [
      "6\n"
     ]
    }
   ],
   "source": [
    "#Multidimensional \n",
    "import numpy as np\n",
    "\n",
    "arr = np.array([[1, 2, 3], [4, 5, 6], [7, 8, 9]])\n",
    "print(arr[1, 2])\n"
   ]
  },
  {
   "cell_type": "code",
   "execution_count": 3,
   "metadata": {},
   "outputs": [
    {
     "name": "stdout",
     "output_type": "stream",
     "text": [
      "15\n",
      "3.0\n",
      "1.4142135623730951\n"
     ]
    }
   ],
   "source": [
    "# Mathematical Functions\n",
    "\n",
    "import numpy as np\n",
    "arr = np.array([1, 2, 3, 4, 5])\n",
    "print(np.sum(arr))\n",
    "print(np.mean(arr))\n",
    "print(np.std(arr))"
   ]
  },
  {
   "cell_type": "code",
   "execution_count": 5,
   "metadata": {},
   "outputs": [
    {
     "name": "stdout",
     "output_type": "stream",
     "text": [
      "[[ 6  8]\n",
      " [10 12]]\n"
     ]
    }
   ],
   "source": [
    "import numpy as np\n",
    "matrix1 = np.array([[1, 2], [3, 4]])\n",
    "matrix2 = np.array([[5, 6], [7, 8]])\n",
    "print(np.add(matrix1, matrix2))"
   ]
  },
  {
   "cell_type": "code",
   "execution_count": 14,
   "metadata": {},
   "outputs": [
    {
     "name": "stdout",
     "output_type": "stream",
     "text": [
      "[0.1915258  0.12713772 0.21832703]\n",
      "[8 2 5 2 9 3 0 9 7 4 8 7 2 2 1 0 1 5 3 0]\n"
     ]
    }
   ],
   "source": [
    "import numpy as np\n",
    "\n",
    "print(np.random.rand(3))\n",
    "print(np.random.randint(0, 10, 20))"
   ]
  }
 ],
 "metadata": {
  "kernelspec": {
   "display_name": "Python 3",
   "language": "python",
   "name": "python3"
  },
  "language_info": {
   "codemirror_mode": {
    "name": "ipython",
    "version": 3
   },
   "file_extension": ".py",
   "mimetype": "text/x-python",
   "name": "python",
   "nbconvert_exporter": "python",
   "pygments_lexer": "ipython3",
   "version": "3.12.4"
  }
 },
 "nbformat": 4,
 "nbformat_minor": 2
}
